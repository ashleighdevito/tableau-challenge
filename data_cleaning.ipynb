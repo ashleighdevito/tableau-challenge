{
 "cells": [
  {
   "cell_type": "code",
   "execution_count": 1,
   "source": [
    "import pandas as pd"
   ],
   "outputs": [],
   "metadata": {}
  },
  {
   "cell_type": "code",
   "execution_count": 2,
   "source": [
    "filenames = []\r\n",
    "for i in range (2, 9):\r\n",
    "    filename = f'original_data/JC-20210{i}-citibike-tripdata.csv'\r\n",
    "    filenames.append(filename)\r\n"
   ],
   "outputs": [],
   "metadata": {}
  },
  {
   "cell_type": "code",
   "execution_count": 3,
   "source": [
    "combined_csv = pd.concat([pd.read_csv(f) for f in filenames ])"
   ],
   "outputs": [],
   "metadata": {}
  },
  {
   "cell_type": "code",
   "execution_count": 4,
   "source": [
    "combined_csv.to_csv( \"CitiBike_2021_02_to_08.csv\", index=False, encoding='utf-8-sig')"
   ],
   "outputs": [],
   "metadata": {}
  }
 ],
 "metadata": {
  "orig_nbformat": 4,
  "language_info": {
   "name": "python",
   "version": "3.6.10",
   "mimetype": "text/x-python",
   "codemirror_mode": {
    "name": "ipython",
    "version": 3
   },
   "pygments_lexer": "ipython3",
   "nbconvert_exporter": "python",
   "file_extension": ".py"
  },
  "kernelspec": {
   "name": "python3",
   "display_name": "Python 3.6.10 64-bit ('PythonData': conda)"
  },
  "interpreter": {
   "hash": "ed99c328fe6228cde88a5ea9dac3573c8a80070b6f57470153ed5be436ecc5ea"
  }
 },
 "nbformat": 4,
 "nbformat_minor": 2
}